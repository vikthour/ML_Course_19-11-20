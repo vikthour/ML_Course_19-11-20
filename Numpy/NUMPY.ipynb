{
 "cells": [
  {
   "cell_type": "markdown",
   "id": "38192e08",
   "metadata": {},
   "source": [
    "# NUMPY"
   ]
  },
  {
   "cell_type": "markdown",
   "id": "53a9fff3",
   "metadata": {},
   "source": [
    "Numpy is a python package that is used for computational operations on arrays and matrices. \n",
    "\n",
    "This is important especially for Data Science and Machine Learning because it provides a simple and fast way of performing operations on matrices."
   ]
  },
  {
   "cell_type": "markdown",
   "id": "57e702f3",
   "metadata": {},
   "source": [
    "### How to install"
   ]
  },
  {
   "cell_type": "code",
   "execution_count": 1,
   "id": "8aa6ac4b",
   "metadata": {},
   "outputs": [
    {
     "name": "stdout",
     "output_type": "stream",
     "text": [
      "Requirement already satisfied: numpy in c:\\users\\victoradeife\\anaconda3\\lib\\site-packages (1.20.1)\n"
     ]
    }
   ],
   "source": [
    "!pip install numpy"
   ]
  },
  {
   "cell_type": "code",
   "execution_count": 2,
   "id": "e337171c",
   "metadata": {},
   "outputs": [],
   "source": [
    "import numpy as np"
   ]
  },
  {
   "cell_type": "markdown",
   "id": "555ca6ac",
   "metadata": {},
   "source": [
    "Using numpy to perform mathematical operations"
   ]
  },
  {
   "cell_type": "code",
   "execution_count": 3,
   "id": "90828dca",
   "metadata": {},
   "outputs": [],
   "source": [
    "a = [2, 6., 5]\n",
    "b = [7, -8, -9]\n",
    "c = [10, 55]\n",
    "d = [14, 2.3]\n",
    "e = [[2, 3., 6],\n",
    "     [4, 7, 6.2]]\n",
    "f = [[5.2, 5, 9],\n",
    "     [8, 30, 41],\n",
    "     [7, 18.2, 5]]"
   ]
  },
  {
   "cell_type": "markdown",
   "id": "abe34de0",
   "metadata": {},
   "source": [
    "### Absolute\n",
    "To find the absolute of an array, \"np.absolute\" will work the magic by returning the absolute value of whatever values are in the array or matrix. The absolute value of a number is the positive of that number computed using:\n",
    "\n",
    "abs|X| = sqrt(X**2)"
   ]
  },
  {
   "cell_type": "code",
   "execution_count": 4,
   "id": "22a5f3b1",
   "metadata": {},
   "outputs": [
    {
     "data": {
      "text/plain": [
       "array([14. ,  2.3])"
      ]
     },
     "execution_count": 4,
     "metadata": {},
     "output_type": "execute_result"
    }
   ],
   "source": [
    "np.absolute(d)"
   ]
  },
  {
   "cell_type": "code",
   "execution_count": 5,
   "id": "aa670eaf",
   "metadata": {},
   "outputs": [
    {
     "data": {
      "text/plain": [
       "array([7, 8, 9])"
      ]
     },
     "execution_count": 5,
     "metadata": {},
     "output_type": "execute_result"
    }
   ],
   "source": [
    "#Notice how it returns the positive values of the elements of the array.\n",
    "np.absolute(b)"
   ]
  },
  {
   "cell_type": "markdown",
   "id": "2ec00a25",
   "metadata": {},
   "source": [
    "### Array Max\n",
    "\n",
    "To find the maximum and minimum element in an, \"np.amax\" and \"np.amin\" returns the maximum and minimum elements respectively."
   ]
  },
  {
   "cell_type": "code",
   "execution_count": 6,
   "id": "07b7153b",
   "metadata": {},
   "outputs": [
    {
     "name": "stdout",
     "output_type": "stream",
     "text": [
      "[2, 6.0, 5]\n"
     ]
    },
    {
     "data": {
      "text/plain": [
       "6.0"
      ]
     },
     "execution_count": 6,
     "metadata": {},
     "output_type": "execute_result"
    }
   ],
   "source": [
    "print(a)\n",
    "\n",
    "#amax returns the maximum value\n",
    "np.amax(a)"
   ]
  },
  {
   "cell_type": "code",
   "execution_count": 7,
   "id": "340cfd34",
   "metadata": {},
   "outputs": [
    {
     "data": {
      "text/plain": [
       "2.0"
      ]
     },
     "execution_count": 7,
     "metadata": {},
     "output_type": "execute_result"
    }
   ],
   "source": [
    "np.amin(a)"
   ]
  },
  {
   "cell_type": "code",
   "execution_count": 8,
   "id": "6fd0b51f",
   "metadata": {},
   "outputs": [
    {
     "name": "stdout",
     "output_type": "stream",
     "text": [
      "[[5.2, 5, 9], [8, 30, 41], [7, 18.2, 5]]\n"
     ]
    },
    {
     "data": {
      "text/plain": [
       "array([ 8., 30., 41.])"
      ]
     },
     "execution_count": 8,
     "metadata": {},
     "output_type": "execute_result"
    }
   ],
   "source": [
    "#amax can also return the maximum value in an axis (0 returns the maximum along the vertical axis)\n",
    "\n",
    "print(f)\n",
    "np.amax(f, axis=0)"
   ]
  },
  {
   "cell_type": "code",
   "execution_count": 9,
   "id": "6abd4b46",
   "metadata": {},
   "outputs": [
    {
     "name": "stdout",
     "output_type": "stream",
     "text": [
      "[[5.2, 5, 9], [8, 30, 41], [7, 18.2, 5]]\n"
     ]
    },
    {
     "data": {
      "text/plain": [
       "array([5., 8., 5.])"
      ]
     },
     "execution_count": 9,
     "metadata": {},
     "output_type": "execute_result"
    }
   ],
   "source": [
    "#amin can also return the minimum value in an axis (1 returns the minimum value along the horizontal axis)\n",
    "\n",
    "print(f)\n",
    "np.amin(f, axis=1)"
   ]
  },
  {
   "cell_type": "markdown",
   "id": "9ad868db",
   "metadata": {},
   "source": [
    "###  All\n",
    "\n",
    "To test if all the elements of an array meet a certain condition, \"np.all\" does that by checking through the selected axis and returning the status of each element with respect to the given condition."
   ]
  },
  {
   "cell_type": "code",
   "execution_count": 10,
   "id": "d825389b",
   "metadata": {},
   "outputs": [
    {
     "data": {
      "text/plain": [
       "array([ True,  True,  True])"
      ]
     },
     "execution_count": 10,
     "metadata": {},
     "output_type": "execute_result"
    }
   ],
   "source": [
    "np.all(f, axis=0) < 10 #All the elements in this axis are less than 100"
   ]
  },
  {
   "cell_type": "code",
   "execution_count": 11,
   "id": "f87a8196",
   "metadata": {},
   "outputs": [
    {
     "data": {
      "text/plain": [
       "array([False, False, False])"
      ]
     },
     "execution_count": 11,
     "metadata": {},
     "output_type": "execute_result"
    }
   ],
   "source": [
    "np.all(f, axis=1) > 100 #None of the elements in this axis is greater than 100"
   ]
  },
  {
   "cell_type": "code",
   "execution_count": 12,
   "id": "7229aab5",
   "metadata": {},
   "outputs": [
    {
     "data": {
      "text/plain": [
       "False"
      ]
     },
     "execution_count": 12,
     "metadata": {},
     "output_type": "execute_result"
    }
   ],
   "source": [
    "np.all(b) > 3"
   ]
  },
  {
   "cell_type": "markdown",
   "id": "e40e805d",
   "metadata": {},
   "source": [
    "###  Append\n",
    "\n",
    "To add an element to a given array, \"np.append\" will attach a number to the last position in the array."
   ]
  },
  {
   "cell_type": "code",
   "execution_count": 13,
   "id": "c0c2eb58",
   "metadata": {},
   "outputs": [
    {
     "name": "stdout",
     "output_type": "stream",
     "text": [
      "[2, 6.0, 5]\n"
     ]
    },
    {
     "data": {
      "text/plain": [
       "array([2., 6., 5., 6.])"
      ]
     },
     "execution_count": 13,
     "metadata": {},
     "output_type": "execute_result"
    }
   ],
   "source": [
    "print(a)\n",
    "s = np.append(a, 6.)\n",
    "s"
   ]
  },
  {
   "cell_type": "code",
   "execution_count": 14,
   "id": "dcf8c335",
   "metadata": {},
   "outputs": [
    {
     "name": "stdout",
     "output_type": "stream",
     "text": [
      "[[5.2, 5, 9], [8, 30, 41], [7, 18.2, 5]]\n"
     ]
    },
    {
     "data": {
      "text/plain": [
       "array([ 5.2,  5. ,  9. ,  8. , 30. , 41. ,  7. , 18.2,  5. ,  5.4])"
      ]
     },
     "execution_count": 14,
     "metadata": {},
     "output_type": "execute_result"
    }
   ],
   "source": [
    "#Appending a value to an matrix without specifying the axis will transform the matrix to a 1 * n dimensional array\n",
    "print(f)\n",
    "np.append(f, 5.4) "
   ]
  },
  {
   "cell_type": "code",
   "execution_count": 15,
   "id": "b43bf1d8",
   "metadata": {},
   "outputs": [
    {
     "data": {
      "text/plain": [
       "array([[ 5.2,  5. ,  9. ,  4.2],\n",
       "       [ 8. , 30. , 41. ,  1.2],\n",
       "       [ 7. , 18.2,  5. , 10. ]])"
      ]
     },
     "execution_count": 15,
     "metadata": {},
     "output_type": "execute_result"
    }
   ],
   "source": [
    "#You can only append a 1 * n matrix to an m * n matrix along the vertical axis (axis = 1)\n",
    "np.append(f, values=[[4.2], [1.2], [10]], axis= 1)"
   ]
  },
  {
   "cell_type": "code",
   "execution_count": 16,
   "id": "95c6e042",
   "metadata": {},
   "outputs": [
    {
     "data": {
      "text/plain": [
       "array([[ 5.2,  5. ,  9. ],\n",
       "       [ 8. , 30. , 41. ],\n",
       "       [ 7. , 18.2,  5. ],\n",
       "       [ 4.2,  1.2, 10. ]])"
      ]
     },
     "execution_count": 16,
     "metadata": {},
     "output_type": "execute_result"
    }
   ],
   "source": [
    "#You can only append a m * 1 matrix to an m * n matrix along the horizontal axis (axis = 0)\n",
    "np.append(f, values=[[4.2, 1.2, 10]], axis= 0)"
   ]
  },
  {
   "cell_type": "markdown",
   "id": "adbc9077",
   "metadata": {},
   "source": [
    "###  Broadcast\n",
    "\n",
    "To broadcast the shape and values of an array to another array, \"np.broadcast\" casts the elements of the first array to fill the shape of the second."
   ]
  },
  {
   "cell_type": "code",
   "execution_count": 17,
   "id": "63d34363",
   "metadata": {},
   "outputs": [
    {
     "name": "stdout",
     "output_type": "stream",
     "text": [
      "[2, 6.0, 5]\n",
      "[7, -8, -9]\n",
      "(3, 3)\n"
     ]
    }
   ],
   "source": [
    "print(a)\n",
    "print(b)\n",
    "braodcasted = np.broadcast(a, f)\n",
    "print(braodcasted.shape)"
   ]
  },
  {
   "cell_type": "code",
   "execution_count": 18,
   "id": "012bf44b",
   "metadata": {},
   "outputs": [
    {
     "name": "stdout",
     "output_type": "stream",
     "text": [
      "(3, 3)\n"
     ]
    }
   ],
   "source": [
    "#You can only broadcast the shape of a larger array to a smaller array\n",
    "minimize = np.broadcast(f, a)\n",
    "print(minimize.shape)"
   ]
  },
  {
   "cell_type": "markdown",
   "id": "b06c2612",
   "metadata": {},
   "source": [
    "###  ARange\n",
    "\n",
    "This is the numpy function of provide a range of values."
   ]
  },
  {
   "cell_type": "code",
   "execution_count": 19,
   "id": "3ea6c647",
   "metadata": {},
   "outputs": [
    {
     "data": {
      "text/plain": [
       "array([10, 11, 12, 13, 14, 15, 16, 17, 18, 19, 20, 21, 22, 23, 24, 25, 26,\n",
       "       27, 28, 29, 30, 31, 32, 33, 34, 35, 36, 37, 38, 39, 40, 41, 42, 43,\n",
       "       44, 45, 46, 47, 48, 49, 50, 51])"
      ]
     },
     "execution_count": 19,
     "metadata": {},
     "output_type": "execute_result"
    }
   ],
   "source": [
    "np.arange(10, 52)"
   ]
  },
  {
   "cell_type": "code",
   "execution_count": 20,
   "id": "d9914620",
   "metadata": {},
   "outputs": [
    {
     "data": {
      "text/plain": [
       "array([ 0,  5, 10, 15, 20, 25, 30, 35, 40, 45])"
      ]
     },
     "execution_count": 20,
     "metadata": {},
     "output_type": "execute_result"
    }
   ],
   "source": [
    "np.arange(0, 50, 5)"
   ]
  },
  {
   "cell_type": "markdown",
   "id": "4266adf8",
   "metadata": {},
   "source": [
    "###  Dot\n",
    "\n",
    "This provides the dotproduct of two array."
   ]
  },
  {
   "cell_type": "code",
   "execution_count": 21,
   "id": "31b57011",
   "metadata": {},
   "outputs": [
    {
     "data": {
      "text/plain": [
       "-79.0"
      ]
     },
     "execution_count": 21,
     "metadata": {},
     "output_type": "execute_result"
    }
   ],
   "source": [
    "#The dotproduct of two arrays of the same shape can be computed.\n",
    "np.dot(a, b)"
   ]
  },
  {
   "cell_type": "code",
   "execution_count": 22,
   "id": "8c0de340",
   "metadata": {},
   "outputs": [
    {
     "data": {
      "text/plain": [
       "array([ 93.4, 281. , 289. ])"
      ]
     },
     "execution_count": 22,
     "metadata": {},
     "output_type": "execute_result"
    }
   ],
   "source": [
    "#The dotproduct of an array and a matrix can be computed as seen below:\n",
    "np.dot(a, f)"
   ]
  },
  {
   "cell_type": "markdown",
   "id": "1686dbe5",
   "metadata": {},
   "source": [
    "###  Cummulative Sum\n",
    "\n",
    "This provides the across a chosen axis."
   ]
  },
  {
   "cell_type": "code",
   "execution_count": 23,
   "id": "8247e5ae",
   "metadata": {},
   "outputs": [
    {
     "name": "stdout",
     "output_type": "stream",
     "text": [
      "[  5.2  10.2  19.2  27.2  57.2  98.2 105.2 123.4 128.4]\n"
     ]
    }
   ],
   "source": [
    "#If an axis is not stated, numpy interpretes and converts the arrays/matrix to a 1 * n dimensional array\n",
    "print(np.cumsum(f))"
   ]
  },
  {
   "cell_type": "code",
   "execution_count": 24,
   "id": "0b283331",
   "metadata": {},
   "outputs": [
    {
     "name": "stdout",
     "output_type": "stream",
     "text": [
      "[[5.2, 5, 9], [8, 30, 41], [7, 18.2, 5]]\n"
     ]
    },
    {
     "data": {
      "text/plain": [
       "array([[ 5.2, 10.2, 19.2],\n",
       "       [ 8. , 38. , 79. ],\n",
       "       [ 7. , 25.2, 30.2]])"
      ]
     },
     "execution_count": 24,
     "metadata": {},
     "output_type": "execute_result"
    }
   ],
   "source": [
    "print(f)\n",
    "np.cumsum(f, axis=1)"
   ]
  },
  {
   "cell_type": "code",
   "execution_count": 25,
   "id": "6984b597",
   "metadata": {},
   "outputs": [
    {
     "data": {
      "text/plain": [
       "array([[ 5.2,  5. ,  9. ],\n",
       "       [13.2, 35. , 50. ],\n",
       "       [20.2, 53.2, 55. ]])"
      ]
     },
     "execution_count": 25,
     "metadata": {},
     "output_type": "execute_result"
    }
   ],
   "source": [
    "np.cumsum(f, axis=0)"
   ]
  },
  {
   "cell_type": "markdown",
   "id": "38f9661c",
   "metadata": {},
   "source": [
    "###  Reshape\n",
    "\n",
    "This function transforms the shape of an array into another specified shape. Meanwhile it cannot reshape an array of b-elements into an array of c-elements, that is, an array of 9 elements cannot be reshaped into an array of 6 elements."
   ]
  },
  {
   "cell_type": "code",
   "execution_count": 26,
   "id": "540648a8",
   "metadata": {},
   "outputs": [
    {
     "name": "stdout",
     "output_type": "stream",
     "text": [
      "[2, 6.0, 5]\n"
     ]
    },
    {
     "data": {
      "text/plain": [
       "array([[2.],\n",
       "       [6.],\n",
       "       [5.]])"
      ]
     },
     "execution_count": 26,
     "metadata": {},
     "output_type": "execute_result"
    }
   ],
   "source": [
    "print(a)\n",
    "np.reshape(a, [3,1])"
   ]
  },
  {
   "cell_type": "code",
   "execution_count": 27,
   "id": "5093f486",
   "metadata": {},
   "outputs": [
    {
     "name": "stdout",
     "output_type": "stream",
     "text": [
      "[[5.2, 5, 9], [8, 30, 41], [7, 18.2, 5]]\n"
     ]
    },
    {
     "data": {
      "text/plain": [
       "array([ 5.2,  5. ,  9. ,  8. , 30. , 41. ,  7. , 18.2,  5. ])"
      ]
     },
     "execution_count": 27,
     "metadata": {},
     "output_type": "execute_result"
    }
   ],
   "source": [
    "print(f)\n",
    "np.reshape(f, 9)"
   ]
  },
  {
   "cell_type": "markdown",
   "id": "6fc25adf",
   "metadata": {},
   "source": [
    "###  Resize\n",
    "\n",
    "This function changes the size of an array or matrix into a specified size."
   ]
  },
  {
   "cell_type": "code",
   "execution_count": 28,
   "id": "42d39451",
   "metadata": {},
   "outputs": [
    {
     "name": "stdout",
     "output_type": "stream",
     "text": [
      "[2, 6.0, 5]\n"
     ]
    },
    {
     "data": {
      "text/plain": [
       "array([[2., 6.],\n",
       "       [5., 2.],\n",
       "       [6., 5.]])"
      ]
     },
     "execution_count": 28,
     "metadata": {},
     "output_type": "execute_result"
    }
   ],
   "source": [
    "print(a)\n",
    "np.resize(a, [3,2])"
   ]
  },
  {
   "cell_type": "code",
   "execution_count": 29,
   "id": "f4d6fd90",
   "metadata": {
    "scrolled": false
   },
   "outputs": [
    {
     "name": "stdout",
     "output_type": "stream",
     "text": [
      "[[5.2, 5, 9], [8, 30, 41], [7, 18.2, 5]]\n"
     ]
    },
    {
     "data": {
      "text/plain": [
       "array([[ 5.2,  5. ,  9. ],\n",
       "       [ 8. , 30. , 41. ],\n",
       "       [ 7. , 18.2,  5. ],\n",
       "       [ 5.2,  5. ,  9. ],\n",
       "       [ 8. , 30. , 41. ],\n",
       "       [ 7. , 18.2,  5. ],\n",
       "       [ 5.2,  5. ,  9. ],\n",
       "       [ 8. , 30. , 41. ],\n",
       "       [ 7. , 18.2,  5. ]])"
      ]
     },
     "execution_count": 29,
     "metadata": {},
     "output_type": "execute_result"
    }
   ],
   "source": [
    "print(f)\n",
    "np.resize(f, [9,3])"
   ]
  },
  {
   "cell_type": "markdown",
   "id": "e04b1faa",
   "metadata": {},
   "source": [
    "'''\n",
    "\n",
    "Resize is different from Reshape because *reshape* cannot transform an array of b-elements into an array of c-elements, \n",
    "that is, an array of 9 elements cannot be reshaped into an array of 6 elements while resize can.\n",
    "\n",
    "'''"
   ]
  },
  {
   "cell_type": "code",
   "execution_count": 32,
   "id": "b5b92473",
   "metadata": {},
   "outputs": [
    {
     "name": "stdout",
     "output_type": "stream",
     "text": [
      "[[ 5.2  5.   9.   8.  30. ]\n",
      " [41.   7.  18.2  5.   5.2]]\n"
     ]
    },
    {
     "data": {
      "text/plain": [
       "'\\nwhile\\n\\nprint(np.reshape(f, [2,5]))\\n\\nwill give an error\\n\\n'"
      ]
     },
     "execution_count": 32,
     "metadata": {},
     "output_type": "execute_result"
    }
   ],
   "source": [
    "print(np.resize(f, [2,5]))\n",
    "'''\n",
    "while\n",
    "\n",
    "print(np.reshape(f, [2,5]))\n",
    "\n",
    "will give an error\n",
    "\n",
    "'''"
   ]
  },
  {
   "cell_type": "markdown",
   "id": "864a9fe9",
   "metadata": {},
   "source": [
    "###  Vstack\n",
    "\n",
    "This reshapes an array/matrix by converting it to stack on the vertical axis."
   ]
  },
  {
   "cell_type": "code",
   "execution_count": 33,
   "id": "7077150a",
   "metadata": {
    "scrolled": true
   },
   "outputs": [
    {
     "data": {
      "text/plain": [
       "array([[2.],\n",
       "       [6.],\n",
       "       [5.]])"
      ]
     },
     "execution_count": 33,
     "metadata": {},
     "output_type": "execute_result"
    }
   ],
   "source": [
    "np.vstack(a)"
   ]
  },
  {
   "cell_type": "markdown",
   "id": "04274877",
   "metadata": {},
   "source": [
    "Hstack reshapes an array/matrix by appending the rows along one dimension."
   ]
  },
  {
   "cell_type": "code",
   "execution_count": 34,
   "id": "51fc9495",
   "metadata": {},
   "outputs": [
    {
     "data": {
      "text/plain": [
       "array([ 5.2,  5. ,  9. ,  8. , 30. , 41. ,  7. , 18.2,  5. ])"
      ]
     },
     "execution_count": 34,
     "metadata": {},
     "output_type": "execute_result"
    }
   ],
   "source": [
    "np.hstack(f)"
   ]
  },
  {
   "cell_type": "markdown",
   "id": "2e204069",
   "metadata": {},
   "source": [
    "###  Unique\n",
    "\n",
    "This returns a list of the unique element in a array"
   ]
  },
  {
   "cell_type": "code",
   "execution_count": 35,
   "id": "112ce0b0",
   "metadata": {},
   "outputs": [
    {
     "data": {
      "text/plain": [
       "array([2., 5., 6.])"
      ]
     },
     "execution_count": 35,
     "metadata": {},
     "output_type": "execute_result"
    }
   ],
   "source": [
    "np.unique(a)"
   ]
  },
  {
   "cell_type": "code",
   "execution_count": 36,
   "id": "79c2d54d",
   "metadata": {},
   "outputs": [
    {
     "data": {
      "text/plain": [
       "array([ 5. ,  5.2,  7. ,  8. ,  9. , 18.2, 30. , 41. ])"
      ]
     },
     "execution_count": 36,
     "metadata": {},
     "output_type": "execute_result"
    }
   ],
   "source": [
    "np.unique(f)"
   ]
  },
  {
   "cell_type": "markdown",
   "id": "48e11034",
   "metadata": {},
   "source": [
    "###  Random\n",
    "\n",
    "This generates a random set of values."
   ]
  },
  {
   "cell_type": "code",
   "execution_count": 37,
   "id": "5665c86c",
   "metadata": {},
   "outputs": [
    {
     "data": {
      "text/plain": [
       "array([3, 1, 1, 1, 5, 1, 2, 1, 1, 2, 2, 2, 1, 1, 5, 2, 1, 2, 2, 1, 1, 1,\n",
       "       4, 2, 2, 1, 1, 3, 4, 3, 1, 3, 2, 1, 2, 1, 1, 1, 1, 1, 1, 3, 3, 2,\n",
       "       1, 1, 1, 3, 1, 3, 1, 4, 1, 1, 1, 7, 2, 2, 1, 1, 2, 3, 2, 7, 2, 1,\n",
       "       3, 1, 2, 4, 1, 1, 1, 1, 1, 1, 3, 1, 3, 2, 1, 2, 1, 2, 1, 2, 1, 2,\n",
       "       3, 6, 1, 2, 1, 2, 2, 1, 1, 4, 1, 1])"
      ]
     },
     "execution_count": 37,
     "metadata": {},
     "output_type": "execute_result"
    }
   ],
   "source": [
    "np.random.geometric(0.5, 100)"
   ]
  },
  {
   "cell_type": "code",
   "execution_count": 38,
   "id": "038e52e6",
   "metadata": {},
   "outputs": [
    {
     "data": {
      "text/plain": [
       "array([18, 11, 33, 36, 38, 26, 20, 24, 11, 33, 44, 31, 23, 32, 44, 28, 18,\n",
       "       36, 19, 33, 17, 29, 28, 46, 41, 24, 32, 18, 38, 11, 19, 40, 17, 17,\n",
       "       17, 20, 46, 42, 23, 38, 31, 40, 28, 43, 32, 31, 33, 22, 38, 42, 26,\n",
       "       26, 49, 21, 14, 12, 46, 19, 36, 17, 36, 19, 41, 28, 16, 33, 21, 16,\n",
       "       10, 36, 36, 38, 14, 23, 20, 47, 47, 15, 45, 44, 10, 22, 32, 29, 38,\n",
       "       30, 41, 40, 47, 10, 35, 31, 25, 26, 45, 39, 24, 36, 30, 47, 31, 39,\n",
       "       47, 13, 16, 27, 12, 32, 40, 45, 15, 19, 22, 21, 11, 35, 30, 23, 30,\n",
       "       20, 29, 30, 32, 43, 12, 47, 23, 21, 41, 38, 32, 35, 36, 45, 28, 17,\n",
       "       31, 14, 20, 17, 17, 29, 11, 36, 32, 45, 37, 30, 16, 31, 47, 17, 31,\n",
       "       33, 22, 41, 14, 39, 39, 48, 13, 14, 20, 36, 23, 40, 17, 40, 30, 35,\n",
       "       22, 11, 25, 17, 18, 22, 45, 29, 27, 12, 30, 26, 24, 31, 45, 29, 13,\n",
       "       45, 17, 29, 40, 40, 16, 20, 43, 22, 23, 48, 39, 39])"
      ]
     },
     "execution_count": 38,
     "metadata": {},
     "output_type": "execute_result"
    }
   ],
   "source": [
    "np.random.randint(10, 50, 200)"
   ]
  },
  {
   "cell_type": "code",
   "execution_count": 39,
   "id": "a676cdf8",
   "metadata": {},
   "outputs": [
    {
     "data": {
      "text/plain": [
       "array([[30, 39, 34, 19, 34, 29],\n",
       "       [33, 35, 16, 10, 41, 34],\n",
       "       [29, 14, 23, 42, 26, 44]])"
      ]
     },
     "execution_count": 39,
     "metadata": {},
     "output_type": "execute_result"
    }
   ],
   "source": [
    "#This can also be converted into an array\n",
    "np.random.randint(10, 50, [3, 6])"
   ]
  },
  {
   "cell_type": "markdown",
   "id": "da7e678a",
   "metadata": {},
   "source": [
    "###  Sort\n",
    "\n",
    "This function rearranges the values of an array/matrix."
   ]
  },
  {
   "cell_type": "code",
   "execution_count": 40,
   "id": "1f6678e0",
   "metadata": {
    "scrolled": true
   },
   "outputs": [
    {
     "data": {
      "text/plain": [
       "array([2., 5., 6.])"
      ]
     },
     "execution_count": 40,
     "metadata": {},
     "output_type": "execute_result"
    }
   ],
   "source": [
    "np.sort(a)"
   ]
  },
  {
   "cell_type": "code",
   "execution_count": 41,
   "id": "dec98912",
   "metadata": {},
   "outputs": [
    {
     "name": "stdout",
     "output_type": "stream",
     "text": [
      "[[5.2, 5, 9], [8, 30, 41], [7, 18.2, 5]]\n"
     ]
    },
    {
     "data": {
      "text/plain": [
       "array([[ 5. ,  5.2,  9. ],\n",
       "       [ 8. , 30. , 41. ],\n",
       "       [ 5. ,  7. , 18.2]])"
      ]
     },
     "execution_count": 41,
     "metadata": {},
     "output_type": "execute_result"
    }
   ],
   "source": [
    "print(f)\n",
    "np.sort(f)"
   ]
  },
  {
   "cell_type": "markdown",
   "id": "aafae518",
   "metadata": {},
   "source": [
    "###  Square\n",
    "\n",
    "This returns the square of an integer, list or matrix"
   ]
  },
  {
   "cell_type": "code",
   "execution_count": 42,
   "id": "0ac75e1c",
   "metadata": {},
   "outputs": [
    {
     "data": {
      "text/plain": [
       "16"
      ]
     },
     "execution_count": 42,
     "metadata": {},
     "output_type": "execute_result"
    }
   ],
   "source": [
    "np.square(4)"
   ]
  },
  {
   "cell_type": "code",
   "execution_count": 43,
   "id": "17ad1613",
   "metadata": {},
   "outputs": [
    {
     "data": {
      "text/plain": [
       "array([ 1, 25, 64], dtype=int32)"
      ]
     },
     "execution_count": 43,
     "metadata": {},
     "output_type": "execute_result"
    }
   ],
   "source": [
    "np.square([1, 5, 8])"
   ]
  },
  {
   "cell_type": "code",
   "execution_count": 44,
   "id": "855d8f45",
   "metadata": {},
   "outputs": [
    {
     "data": {
      "text/plain": [
       "array([[  27.04,   25.  ,   81.  ],\n",
       "       [  64.  ,  900.  , 1681.  ],\n",
       "       [  49.  ,  331.24,   25.  ]])"
      ]
     },
     "execution_count": 44,
     "metadata": {},
     "output_type": "execute_result"
    }
   ],
   "source": [
    "np.square(f)"
   ]
  },
  {
   "cell_type": "raw",
   "id": "b5eac469",
   "metadata": {},
   "source": [
    "source: https://numpy.org/doc/stable/"
   ]
  }
 ],
 "metadata": {
  "kernelspec": {
   "display_name": "Python 3",
   "language": "python",
   "name": "python3"
  },
  "language_info": {
   "codemirror_mode": {
    "name": "ipython",
    "version": 3
   },
   "file_extension": ".py",
   "mimetype": "text/x-python",
   "name": "python",
   "nbconvert_exporter": "python",
   "pygments_lexer": "ipython3",
   "version": "3.8.8"
  }
 },
 "nbformat": 4,
 "nbformat_minor": 5
}
